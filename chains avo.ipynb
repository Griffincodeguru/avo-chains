{
 "cells": [
  {
   "cell_type": "code",
   "execution_count": null,
   "id": "37ab79ab",
   "metadata": {},
   "outputs": [],
   "source": [
    "import pandas as pd\n",
    "\n",
    "# Load data into DataFrames\n",
    "avocado_df = pd.read_csv('data/avocado.csv', error_bad_lines=False)\n",
    "lemon_df = pd.read_csv('data/lemon.csv', error_bad_lines=False)\n",
    "olive_oil_df = pd.read_csv('data/olive_oil.csv', error_bad_lines=False)\n",
    "\n",
    "# Inspect the data\n",
    "print(avocado_df.head())\n",
    "print(lemon_df.head())\n",
    "print(olive_oil_df.head())\n",
    "# Load relevant categories from TXT files\n",
    "avocado_categories = set(pd.read_csv('data/relevant_avocado_categories.txt', header=None, squeeze=True))\n",
    "lemon_categories = set(pd.read_csv('data/relevant_lemon_categories.txt', header=None, squeeze=True))\n",
    "olive_oil_categories = set(pd.read_csv('data/relevant_olive_oil_categories.txt', header=None, squeeze=True))\n",
    "\n",
    "# Filter DataFrames based on relevant categories\n",
    "avocado_df = avocado_df[avocado_df['categories_tags'].apply(lambda x: any(cat in x for cat in avocado_categories))]\n",
    "lemon_df = lemon_df[lemon_df['categories_tags'].apply(lambda x: any(cat in x for cat in lemon_categories))]\n",
    "olive_oil_df = olive_oil_df[olive_oil_df['categories_tags'].apply(lambda x: any(cat in x for cat in olive_oil_categories))]\n",
    "\n",
    "# Extract country of origin\n",
    "avocado_origin = avocado_df[['product_name', 'origins_tags']].dropna()\n",
    "lemon_origin = lemon_df[['product_name', 'origins_tags']].dropna()\n",
    "olive_oil_origin = olive_oil_df[['product_name', 'origins_tags']].dropna()\n",
    "\n",
    "# Display results\n",
    "print(\"Avocado Origins:\")\n",
    "print(avocado_origin)\n",
    "\n",
    "print(\"\\nLemon Origins:\")\n",
    "print(lemon_origin)\n",
    "\n",
    "print(\"\\nOlive Oil Origins:\")\n",
    "print(olive_oil_origin)"
   ]
  }
 ],
 "metadata": {
  "kernelspec": {
   "display_name": "Python 3 (ipykernel)",
   "language": "python",
   "name": "python3"
  },
  "language_info": {
   "codemirror_mode": {
    "name": "ipython",
    "version": 3
   },
   "file_extension": ".py",
   "mimetype": "text/x-python",
   "name": "python",
   "nbconvert_exporter": "python",
   "pygments_lexer": "ipython3",
   "version": "3.10.9"
  }
 },
 "nbformat": 4,
 "nbformat_minor": 5
}
